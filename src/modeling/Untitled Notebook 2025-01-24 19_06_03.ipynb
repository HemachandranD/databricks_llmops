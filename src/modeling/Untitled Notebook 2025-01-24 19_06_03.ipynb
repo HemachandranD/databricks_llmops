{
 "cells": [
  {
   "cell_type": "code",
   "execution_count": 0,
   "metadata": {
    "application/vnd.databricks.v1+cell": {
     "cellMetadata": {
      "byteLimit": 2048000,
      "rowLimit": 10000
     },
     "inputWidgets": {},
     "nuid": "4f4b52ed-825d-4f87-a1d0-2b74c962457a",
     "showTitle": false,
     "tableResultSettingsMap": {},
     "title": ""
    }
   },
   "outputs": [],
   "source": [
    "import pypdf \n",
    "pypdf.__version__"
   ]
  },
  {
   "cell_type": "code",
   "execution_count": 0,
   "metadata": {
    "application/vnd.databricks.v1+cell": {
     "cellMetadata": {
      "byteLimit": 2048000,
      "rowLimit": 10000
     },
     "inputWidgets": {},
     "nuid": "9e396d19-be47-41c3-aa59-f88d789f8d5e",
     "showTitle": false,
     "tableResultSettingsMap": {},
     "title": ""
    }
   },
   "outputs": [],
   "source": [
    "import mlflow\n",
    "from mlflow.tracking import MlflowClient"
   ]
  },
  {
   "cell_type": "code",
   "execution_count": 0,
   "metadata": {
    "application/vnd.databricks.v1+cell": {
     "cellMetadata": {
      "byteLimit": 2048000,
      "rowLimit": 10000
     },
     "inputWidgets": {},
     "nuid": "9e25c45b-7f5c-4995-a537-54fb705f270f",
     "showTitle": false,
     "tableResultSettingsMap": {},
     "title": ""
    }
   },
   "outputs": [],
   "source": [
    "def get_latest_model_version(func):\n",
    "    \"\"\"\n",
    "    Helper method to programmatically get latest model's version from the registry\n",
    "    \"\"\"\n",
    "    def wrapper(model_name):\n",
    "        \"\"\"\n",
    "        Wrapper to fetch the latest model version before executing the main function.\n",
    "        \"\"\"\n",
    "        client = MlflowClient()\n",
    "        model_version_infos = client.search_model_versions(\"name = '%s'\" % model_name)\n",
    "        latest_version = max(\n",
    "            [model_version_info.version for model_version_info in model_version_infos]\n",
    "        )\n",
    "        # Call the original function with the latest version\n",
    "        return func(model_name, latest_version)\n",
    "\n",
    "    return wrapper\n",
    "\n",
    "\n",
    "@get_latest_model_version\n",
    "def set_alias(model_name, current_model_version):\n",
    "    # Set @alias to the latest model version\n",
    "    mlflow.tracking.MlflowClient().set_registered_model_alias(\n",
    "        name=model_name, alias=\"champion\",\n",
    "        version=current_model_version\n",
    "        )\n",
    "    \n",
    "    return current_model_version"
   ]
  },
  {
   "cell_type": "code",
   "execution_count": 0,
   "metadata": {
    "application/vnd.databricks.v1+cell": {
     "cellMetadata": {
      "byteLimit": 2048000,
      "rowLimit": 10000
     },
     "inputWidgets": {},
     "nuid": "4b2964c5-fdcf-4759-b358-8c3ccb66609d",
     "showTitle": false,
     "tableResultSettingsMap": {},
     "title": ""
    }
   },
   "outputs": [],
   "source": [
    "current_model_version = set_alias(model_name=\"hemzai.gold.hemz-pilot-chain\")\n",
    "model_uri = f\"models:/hemzai.gold.hemz-pilot-chain/{current_model_version}\""
   ]
  },
  {
   "cell_type": "code",
   "execution_count": 0,
   "metadata": {
    "application/vnd.databricks.v1+cell": {
     "cellMetadata": {
      "byteLimit": 2048000,
      "rowLimit": 10000
     },
     "inputWidgets": {},
     "nuid": "d0c0c471-cea0-4623-a321-1d42d28fcbe1",
     "showTitle": false,
     "tableResultSettingsMap": {},
     "title": ""
    }
   },
   "outputs": [],
   "source": [
    "model_uri"
   ]
  }
 ],
 "metadata": {
  "application/vnd.databricks.v1+notebook": {
   "computePreferences": null,
   "dashboards": [],
   "environmentMetadata": {
    "base_environment": "",
    "client": "2"
   },
   "language": "python",
   "notebookMetadata": {
    "pythonIndentUnit": 4
   },
   "notebookName": "Untitled Notebook 2025-01-24 19_06_03",
   "widgets": {}
  },
  "language_info": {
   "name": "python"
  }
 },
 "nbformat": 4,
 "nbformat_minor": 0
}
